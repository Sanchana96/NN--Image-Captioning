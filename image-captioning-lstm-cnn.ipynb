{
 "cells": [
  {
   "cell_type": "markdown",
   "metadata": {},
   "source": [
    "## Library setup"
   ]
  },
  {
   "cell_type": "code",
   "execution_count": null,
   "metadata": {},
   "outputs": [],
   "source": [
    "import os\n",
    "import numpy as np\n",
    "import matplotlib.pyplot as plt\n",
    "import pandas as pd\n",
    "import seaborn as sns\n",
    "import nltk\n",
    "import re\n",
    "import tensorflow as tf\n",
    "from tensorflow.keras.applications.inception_v3 import InceptionV3\n",
    "from tensorflow.keras.preprocessing.image import img_to_array, load_img\n",
    "from tensorflow.keras.preprocessing.text import Tokenizer\n",
    "from tensorflow.keras.preprocessing.sequence import pad_sequences\n",
    "from tensorflow.keras.utils import to_categorical, plot_model\n",
    "from tensorflow.keras.models import Model, load_model\n",
    "from tensorflow.keras.layers import Input, Dense, LSTM, Embedding, add\n",
    "from tensorflow.keras.layers import Flatten, Dropout, BatchNormalization\n",
    "from tensorflow.keras.optimizers import Adam\n",
    "from tensorflow.keras.callbacks import EarlyStopping, LearningRateScheduler\n",
    "from sklearn.model_selection import train_test_split\n",
    "from collections import Counter\n",
    "from PIL import Image"
   ]
  },
  {
   "cell_type": "markdown",
   "metadata": {},
   "source": [
    "# Pre-Processing"
   ]
  },
  {
   "cell_type": "code",
   "execution_count": null,
   "metadata": {
    "scrolled": true
   },
   "outputs": [],
   "source": [
    "def preprocess_image(image_path):\n",
    "    img = load_img(image_path, target_size=(420, 420))\n",
    "    img = img_to_array(img)\n",
    "    img = np.expand_dims(img, axis=0)\n",
    "    img = tf.keras.applications.inception_v3.preprocess_input(img)\n",
    "    return img\n",
    "\n",
    "def extract_image_features(model, image_path):\n",
    "    img = preprocess_image(image_path)\n",
    "    features = model.predict(img, verbose=0)\n",
    "    return features\n",
    "\n",
    "# Loading the pre-trained InceptionV3 model\n",
    "inception_v3_model = InceptionV3(weights = '//tf_on_gpu/CNN/Pre_Trained/inception_v3.h5', input_shape=(420, 420, 3))\n",
    "inception_v3_model.layers.pop()\n",
    "inception_v3_model = Model(inputs=inception_v3_model.inputs, outputs=inception_v3_model.layers[-2].output)\n",
    "\n",
    "inception_v3_model.summary()"
   ]
  },
  {
   "cell_type": "code",
   "execution_count": null,
   "metadata": {},
   "outputs": [],
   "source": [
    "def load_captions(file_path):\n",
    "    with open(file_path, 'r') as f:\n",
    "        captions = f.readlines()\n",
    "        # Lowercasing  the captions\n",
    "        captions = [caption.lower() for caption in captions]\n",
    "    return captions\n",
    "\n",
    "def tokenize_captions(captions):\n",
    "    tokenizer = Tokenizer()\n",
    "    tokenizer.fit_on_texts(captions)\n",
    "    return tokenizer\n",
    "\n",
    "# Loading the captions from the dataset\n",
    "captions_path = '//tf_on_gpu/LSTMs/Image_Caption/data_ImageCaption/Flickr8k.token.txt'\n",
    "captions = load_captions(captions_path)\n",
    "captions[:15:3]"
   ]
  },
  {
   "cell_type": "markdown",
   "metadata": {},
   "source": [
    "### Removing some characters\n",
    "#### On this dataset, removing stop words damaged the final results. Additionally, removing rare words didn’t actually help model accuracy."
   ]
  },
  {
   "cell_type": "code",
   "execution_count": null,
   "metadata": {
    "scrolled": true
   },
   "outputs": [],
   "source": [
    "def clean_text(text):\n",
    "    # Removing punctuation marks\n",
    "    text = re.sub(r'[^\\w\\s]', '', text)\n",
    "    \n",
    "    # Removing numbers\n",
    "    text = re.sub(r'\\d+', '', text)\n",
    "    \n",
    "    # Removing extra whitespace\n",
    "    text = re.sub(r'\\s+', ' ', text).strip()\n",
    "    \n",
    "    return text\n",
    "\n",
    "# Cleaning the captions\n",
    "cleaned_captions = [clean_text(caption.split('\\t')[1]) for caption in captions]\n",
    "cleaned_captions[:15:2]"
   ]
  },
  {
   "cell_type": "code",
   "execution_count": null,
   "metadata": {},
   "outputs": [],
   "source": [
    "# Tokenizing the captions\n",
    "all_words = [word for caption in cleaned_captions for word in nltk.word_tokenize(caption)]\n",
    "\n",
    "# Counting the occurrences of each word\n",
    "word_counts = Counter(all_words)\n",
    "\n",
    "# Sorting the words by frequency\n",
    "sorted_words = sorted(word_counts.items(), key=lambda x: x[1], reverse=True)\n",
    "\n",
    "# The most common words\n",
    "sorted_words[:10:2]"
   ]
  },
  {
   "cell_type": "code",
   "execution_count": null,
   "metadata": {},
   "outputs": [],
   "source": [
    "unique_words = [i[0] for i in word_counts.items()]\n",
    "count = [i[1] for i in word_counts.items()]\n",
    "df = pd.DataFrame({'words':unique_words, 'count':count})\n",
    "df.sort_values(by='count', inplace=True, ascending=False)\n",
    "df.reset_index(inplace=True)\n",
    "df.drop(columns=['index'], inplace=True)\n",
    "df"
   ]
  },
  {
   "cell_type": "markdown",
   "metadata": {},
   "source": [
    "## Final captions"
   ]
  },
  {
   "cell_type": "code",
   "execution_count": null,
   "metadata": {},
   "outputs": [],
   "source": [
    "captions_IDs = []\n",
    "for i in range(len(cleaned_captions)):\n",
    "    #  it's suggested to add 'start' and 'end' to the captions\n",
    "    item = captions[i].split('\\t')[0][:-2]+'\\t'+'start '+cleaned_captions[i]+' end\\n'\n",
    "    captions_IDs.append(item)\n",
    "    \n",
    "captions_IDs[:20:3], len(captions_IDs)"
   ]
  },
  {
   "cell_type": "markdown",
   "metadata": {},
   "source": [
    "### Visualizing some of the images with their first and last captions."
   ]
  },
  {
   "cell_type": "code",
   "execution_count": null,
   "metadata": {},
   "outputs": [],
   "source": [
    "images_directory = '//tf_on_gpu/LSTMs/Image_Caption/data_ImageCaption/Images/' # The path where the images are stored\n",
    "\n",
    "# We use dictionaries to access captions of each image by its ID\n",
    "captions_dictionary = {}\n",
    "for item in captions_IDs[:(24)*5]:\n",
    "    image_id, caption = item.split('\\t')\n",
    "    if image_id not in captions_dictionary:\n",
    "        captions_dictionary[image_id] = []\n",
    "    captions_dictionary[image_id].append(caption)\n",
    "else:\n",
    "    list_captions = [x for x in captions_dictionary.items()]\n",
    "\n",
    "plt.figure(figsize=[14, 22], dpi=200)\n",
    "for i in range(24):\n",
    "    image_path = os.path.join(images_directory, list_captions[i][0]) # image_directory + ID = exact path\n",
    "    captions_list = [x[6:-4].split() for x in list_captions[i][1]] # 'start' and 'end' are now removed from text\n",
    "    \n",
    "    plt.subplot(6, 4, i+1)\n",
    "    img = Image.open(image_path)\n",
    "    img = img.resize((140, 140))  # To have a clean plot, it's necessary to resize all images to a uniform size\n",
    "    plt.imshow(img)\n",
    "    plt.axis('off')\n",
    "    \n",
    "    # The first and the last captions of the image (each at two lines)\n",
    "    split = len(captions_list[0])//2 # To split the captions into two lines\n",
    "    first_caption =  f\"\\\"{' '.join(captions_list[0][:split])}\\n{' '.join(captions_list[0][split:])}\\\"\"\n",
    "    split = len(captions_list[-1])//2\n",
    "    last_caption = f\"\\\"{' '.join(captions_list[-1][:split])}\\n{' '.join(captions_list[-1][split:])}\\\"\"\n",
    "    title = f\"{first_caption}\\n{last_caption}\"\n",
    "    \n",
    "    plt.title(title, fontsize=8, fontweight='bold')\n",
    "\n",
    "plt.show()"
   ]
  },
  {
   "cell_type": "markdown",
   "metadata": {},
   "source": [
    "### Tokenizing captions and defining vocab size"
   ]
  },
  {
   "cell_type": "code",
   "execution_count": null,
   "metadata": {},
   "outputs": [],
   "source": [
    "# Tokenizing captions and creating word-to-index mapping\n",
    "tokenizer = tokenize_captions(cleaned_captions)\n",
    "vocab_size = len(tokenizer.word_index) + 1\n",
    "vocab_size"
   ]
  },
  {
   "cell_type": "markdown",
   "metadata": {},
   "source": [
    "### Defining tain, validation and test captions"
   ]
  },
  {
   "cell_type": "code",
   "execution_count": null,
   "metadata": {
    "scrolled": true
   },
   "outputs": [],
   "source": [
    "# Storing all image IDs\n",
    "all_image_ids = os.listdir(images_directory)\n",
    "\n",
    "# Separating image IDs\n",
    "train_image_ids, val_image_ids = train_test_split(all_image_ids, test_size=0.12, random_state=42)\n",
    "val_image_ids, test_image_ids = train_test_split(val_image_ids, test_size=0.04, random_state=42)\n",
    "test_image_ids.extend(val_image_ids[100:200:10]) # The test set and the validation set have ten samples in common\n",
    "\n",
    "\n",
    "# Filtering train captions\n",
    "train_captions = []\n",
    "for caption in captions_IDs:\n",
    "    image_id, _ = caption.split('\\t')\n",
    "    if image_id in train_image_ids:\n",
    "        train_captions.append(caption)\n",
    "        \n",
    "        \n",
    "# Filtering validation captions\n",
    "val_captions = []\n",
    "for caption in captions_IDs:\n",
    "    image_id, _ = caption.split('\\t')\n",
    "    if image_id in val_image_ids:\n",
    "        val_captions.append(caption)        \n",
    "        \n",
    "        \n",
    "# Filtering test captions\n",
    "test_captions = []\n",
    "for caption in captions_IDs:\n",
    "    image_id, _ = caption.split('\\t')\n",
    "    if image_id in test_image_ids:\n",
    "        test_captions.append(caption)\n",
    "\n",
    "train_captions[0], val_captions[0], test_captions[0], len(train_captions)/5, len(val_captions)/5, len(test_captions)/5"
   ]
  },
  {
   "cell_type": "code",
   "execution_count": null,
   "metadata": {},
   "outputs": [],
   "source": [
    "labels = ['Train', 'Validation', 'Test']\n",
    "common_items = set(val_image_ids).intersection(test_image_ids) # Storing common smaples in test set and validation set\n",
    "num_data = [len(train_image_ids), len(val_image_ids), len(test_image_ids)]\n",
    "\n",
    "plt.figure(figsize=[4, 4], dpi=100)\n",
    "sns.set_theme()\n",
    "\n",
    "plt.pie(num_data, labels=labels, explode=(0.02, 0.03, 0.03),\n",
    "            autopct='%1.0f%%', colors=sns.color_palette('Set2'))\n",
    "\n",
    "plt.title(f'All Data: {sum(num_data)-len(common_items)}\\n({len(all_image_ids)} Unique samples)', fontweight='bold')\n",
    "plt.axis('off')\n",
    "\n",
    "plt.show()"
   ]
  },
  {
   "cell_type": "markdown",
   "metadata": {},
   "source": [
    "## Extracting Image features using InceptionV3 model"
   ]
  },
  {
   "cell_type": "code",
   "execution_count": null,
   "metadata": {},
   "outputs": [],
   "source": [
    "train_image_features = {}  # A Dictionary to store image features with their corresponding IDs       \n",
    "counter = 1 # A counter to monitor loop iteration (might take too long)\n",
    "print('Train images features\\n==> Extracted: ', end=' ')\n",
    "for caption in train_image_ids:\n",
    "    image_id = caption.split('\\t')[0]\n",
    "    image_path = os.path.join(images_directory, image_id)\n",
    "    image_features = extract_image_features(inception_v3_model, image_path) # Extracting features\n",
    "    train_image_features[image_id] = image_features.flatten()  # Flattening the features\n",
    "    if counter%300 == 0:\n",
    "        print(counter, end=', ')\n",
    "    counter+=1\n",
    "else:\n",
    "    # Saving the image features (avoid re-extracting at each run)\n",
    "    np.save('train_features_InceptionV3.npy', train_image_features)\n",
    "    print(f'{len(train_image_features)}, Done.')"
   ]
  },
  {
   "cell_type": "code",
   "execution_count": null,
   "metadata": {},
   "outputs": [],
   "source": [
    "# Loading the saved image features\n",
    "train_image_features = np.load('train_features_InceptionV3.npy', allow_pickle=True).item()\n",
    "print(\"Features successfully loaded.\")"
   ]
  },
  {
   "cell_type": "code",
   "execution_count": null,
   "metadata": {},
   "outputs": [],
   "source": [
    "val_image_features = {}  # A Dictionary to store image features with their corresponding IDs\n",
    "counter = 1 # A counter to monitor loop iteration (might take too long)\n",
    "print('Validation images features\\n==> Extracted: ', end=' ')\n",
    "for image_id in val_image_ids:\n",
    "    image_path = os.path.join(images_directory, image_id)\n",
    "    image_features = extract_image_features(inception_v3_model, image_path) # Extracting features\n",
    "    val_image_features[image_id] = image_features.flatten()  # Flattening the features\n",
    "    if counter%250 == 0:\n",
    "        print(counter, end=', ')\n",
    "    counter+=1\n",
    "else:\n",
    "    # Saving the image features (avoid re-extracting at each run)\n",
    "    np.save('val_features_InceptionV3.npy', val_image_features)\n",
    "    print(f'{len(val_image_features)}, Done.')"
   ]
  },
  {
   "cell_type": "code",
   "execution_count": null,
   "metadata": {},
   "outputs": [],
   "source": [
    "# Loading the saved image features\n",
    "val_image_features = np.load('val_features_InceptionV3.npy', allow_pickle=True).item()\n",
    "print(\"Features successfully loaded.\")"
   ]
  },
  {
   "cell_type": "code",
   "execution_count": null,
   "metadata": {},
   "outputs": [],
   "source": [
    "test_image_features = {}  # A Dictionary to store image features with their corresponding IDs\n",
    "counter = 1 # A counter to monitor loop iteration (might take too long)\n",
    "print('Test images features\\n==> Extracted: ', end=' ')\n",
    "for image_id in test_image_ids:\n",
    "    image_path = os.path.join(images_directory, image_id)\n",
    "    image_features = extract_image_features(inception_v3_model, image_path) # Extracting features\n",
    "    test_image_features[image_id] = image_features\n",
    "    if counter%40 == 0:\n",
    "        print(counter, end=', ')\n",
    "    counter+=1\n",
    "else:\n",
    "    # Saving the image features (avoid re-extracting at each run)\n",
    "    np.save('test_features_InceptionV3.npy', test_image_features)\n",
    "    print(f'{len(test_image_features)}, Done.')"
   ]
  },
  {
   "cell_type": "code",
   "execution_count": null,
   "metadata": {},
   "outputs": [],
   "source": [
    "# Loading the saved image features\n",
    "test_image_features = np.load('test_features_InceptionV3.npy', allow_pickle=True).item()\n",
    "print(\"Features successfully loaded.\")"
   ]
  },
  {
   "cell_type": "code",
   "execution_count": null,
   "metadata": {
    "scrolled": true
   },
   "outputs": [],
   "source": [
    "def data_generator(captions, image_features, tokenizer, max_caption_length, batch_size):\n",
    "    num_samples = len(captions)\n",
    "    image_ids = list(image_features.keys())\n",
    "    while True:\n",
    "        np.random.shuffle(image_ids)  # Shuffle image_ids for each epoch\n",
    "        for start_idx in range(0, num_samples, batch_size):\n",
    "            end_idx = min(start_idx + batch_size, num_samples)\n",
    "            X_images, X_captions, y = [], [], []\n",
    "            for caption in captions[start_idx:end_idx]:\n",
    "                image_id, caption_text = caption.split('\\t')\n",
    "                caption_text = caption_text.rstrip('\\n')\n",
    "                seq = tokenizer.texts_to_sequences([caption_text])[0] # Tokenizing the caption\n",
    "                for i in range(1, len(seq)):\n",
    "                    in_seq, out_seq = seq[:i], seq[i] # X_caption, Y\n",
    "                    in_seq = pad_sequences([in_seq], maxlen=max_caption_length)[0]\n",
    "                    out_seq = to_categorical([out_seq], num_classes=vocab_size)[0]\n",
    "                    X_images.append(image_features[image_id])\n",
    "                    X_captions.append(in_seq)\n",
    "                    y.append(out_seq)\n",
    "            \n",
    "            yield [np.array(X_images), np.array(X_captions)], np.array(y)\n",
    "         \n",
    "        \n",
    "# Defining the maximum length of captions\n",
    "max_caption_length = max(len(caption.split()) for caption in cleaned_captions) + 1\n",
    "# Defining the CNN output dimension (size of feature vector from InceptionV3)\n",
    "cnn_output_dim = 2048\n",
    "# Defining batch size\n",
    "batch_size_train = 270\n",
    "batch_size_val = 150\n",
    "\n",
    "# Creating data generators for training and validation\n",
    "train_data_generator = data_generator(train_captions, train_image_features, tokenizer, max_caption_length, batch_size_train)\n",
    "val_data_generator = data_generator(val_captions, val_image_features, tokenizer, max_caption_length, batch_size_val)"
   ]
  },
  {
   "cell_type": "code",
   "execution_count": null,
   "metadata": {},
   "outputs": [],
   "source": [
    "# Checking shapes\n",
    "sample_batch = next(train_data_generator)\n",
    "print(\"Training sample batch shapes:\")\n",
    "print(\"X_images:\", sample_batch[0][0].shape)\n",
    "print(\"X_captions:\", sample_batch[0][1].shape)\n",
    "print(\"y:\", sample_batch[1].shape)\n",
    "print('=========================')\n",
    "sample_batch = next(val_data_generator)\n",
    "print(\"Validation sample batch shapes:\")\n",
    "print(\"X_images:\", sample_batch[0][0].shape)\n",
    "print(\"X_captions:\", sample_batch[0][1].shape)\n",
    "print(\"y:\", sample_batch[1].shape)"
   ]
  },
  {
   "cell_type": "markdown",
   "metadata": {},
   "source": [
    "# Model number 1"
   ]
  },
  {
   "cell_type": "code",
   "execution_count": null,
   "metadata": {},
   "outputs": [],
   "source": [
    "def build_model(vocab_size, max_caption_length, cnn_output_dim):\n",
    "    # Encoder Model\n",
    "    \n",
    "    # image feature layers\n",
    "    input_image = Input(shape=(cnn_output_dim,))\n",
    "    fe1 = BatchNormalization()(input_image)\n",
    "    fe2 = Dense(256, activation='relu')(fe1) # Adding a Dense layer to the CNN output to match the LSTM input size\n",
    "    fe3 = BatchNormalization()(fe2)\n",
    "    \n",
    "    # sequence feature layers\n",
    "    input_caption = Input(shape=(max_caption_length,))\n",
    "    se1 = Embedding(vocab_size, 256, mask_zero=True)(input_caption)\n",
    "    se2 = LSTM(256)(se1)\n",
    "    \n",
    "    # Decoder Model\n",
    "    decoder1 = add([fe3, se2])\n",
    "    decoder2 = Dense(256, activation='relu')(decoder1)\n",
    "    outputs = Dense(vocab_size, activation='softmax')(decoder2)\n",
    "\n",
    "    # Returning The Model\n",
    "    model = Model(inputs=[input_image, input_caption], outputs=outputs)\n",
    "    return model\n",
    "    \n",
    "# Build the model\n",
    "model_1 = build_model(vocab_size, max_caption_length, cnn_output_dim)\n",
    "\n",
    "optimizer = Adam(learning_rate=0.01, clipnorm=1.0)\n",
    "model_1.compile(loss='categorical_crossentropy', optimizer=optimizer)\n",
    "\n",
    "model_1.summary()"
   ]
  },
  {
   "cell_type": "markdown",
   "metadata": {},
   "source": [
    "### Training the model"
   ]
  },
  {
   "cell_type": "code",
   "execution_count": null,
   "metadata": {},
   "outputs": [],
   "source": [
    "# Define early stopping callback to prevent overfitting\n",
    "early_stopping = EarlyStopping(monitor='val_loss', patience=3, restore_best_weights=True)\n",
    "\n",
    "def lr_scheduler(epoch, lr):\n",
    "    return lr * tf.math.exp(-0.7)\n",
    "\n",
    "lr_schedule = LearningRateScheduler(lr_scheduler)"
   ]
  },
  {
   "cell_type": "code",
   "execution_count": null,
   "metadata": {},
   "outputs": [],
   "source": [
    "history_1 = model_1.fit(train_data_generator, steps_per_epoch=len(train_captions) // batch_size_train,\n",
    "                        validation_data=val_data_generator, validation_steps=len(val_captions) // batch_size_val,\n",
    "                        epochs=10, callbacks=[early_stopping, lr_schedule])\n",
    "\n",
    "model_1.save('best_model_1.h5')"
   ]
  },
  {
   "cell_type": "markdown",
   "metadata": {},
   "source": [
    "### Visualizing the model performance"
   ]
  },
  {
   "cell_type": "code",
   "execution_count": null,
   "metadata": {},
   "outputs": [],
   "source": [
    "plt.figure(figsize=(15, 7), dpi=200)\n",
    "sns.set_style('whitegrid')\n",
    "plt.plot([x+1 for x in range(len(history_1.history['loss']))], history_1.history['loss'], color='#E74C3C', marker='o')\n",
    "plt.plot([x+1 for x in range(len(history_1.history['loss']))], history_1.history['val_loss'], color='#641E16', marker='h')\n",
    "plt.title('Train VS Validation', fontsize=15, fontweight='bold')\n",
    "plt.xticks(fontweight='bold')\n",
    "plt.yticks(fontweight='bold')\n",
    "plt.xlabel('Epoch', fontweight='bold')\n",
    "plt.ylabel('Loss', fontweight='bold')\n",
    "plt.legend(['Train Loss', 'Validation Loss'], loc='best')\n",
    "# plt.savefig('frequency_barplot 1.png')\n",
    "plt.show()"
   ]
  },
  {
   "cell_type": "markdown",
   "metadata": {},
   "source": [
    "# Generating captions on test set"
   ]
  },
  {
   "cell_type": "code",
   "execution_count": null,
   "metadata": {},
   "outputs": [],
   "source": [
    "def generate_caption(model, image_features, tokenizer, max_caption_length): # A function to generate captions\n",
    "    # Each captions is started with the word 'start'\n",
    "    in_text = 'start '\n",
    "    for _ in range(max_caption_length):\n",
    "        sequence = tokenizer.texts_to_sequences([in_text])[0]\n",
    "        sequence = pad_sequences([sequence], maxlen=max_caption_length)\n",
    "        prediction = model.predict([image_features, sequence], verbose=0)\n",
    "        idx = np.argmax(prediction)\n",
    "        word = tokenizer.index_word[idx]\n",
    "        # Adding the predicted word to the sequence\n",
    "        in_text += ' ' + word\n",
    "        # When the model returns the word 'end' (which is the last word) then the generating loop must be stopped \n",
    "        if word == 'end':\n",
    "            break\n",
    "    return in_text"
   ]
  },
  {
   "cell_type": "code",
   "execution_count": null,
   "metadata": {},
   "outputs": [],
   "source": [
    "# Selecting the model\n",
    "selected_model = load_model('best_model_1.h5')\n",
    "# A Dictionary to store each image's generated caption with its corresponding IDs      \n",
    "Generated_output = {}\n",
    "counter = 1 # A counter to monitor loop iteration (might take too long)\n",
    "print('Generating captions:\\n==> Generated: ', end=' ')\n",
    "for i, image_id in enumerate(test_image_features):\n",
    "    generated_caption = generate_caption(selected_model, test_image_features[image_id], tokenizer, max_caption_length)\n",
    "    # Adding the generated caption with its corresponding ID to the dictionary\n",
    "    Generated_output[image_id] = generated_caption\n",
    "    counter += 1\n",
    "    if counter%20 == 0:\n",
    "        print(counter, end=', ')\n",
    "else:\n",
    "    print(f'{len(Generated_output)}, Done.')\n",
    "\n",
    "# Checking the result\n",
    "[x for x in Generated_output.items()][:5]"
   ]
  },
  {
   "cell_type": "markdown",
   "metadata": {},
   "source": [
    "## Evaliuating model on test images"
   ]
  },
  {
   "cell_type": "code",
   "execution_count": null,
   "metadata": {},
   "outputs": [],
   "source": [
    "# Most common text evaliuation methods\n",
    "from nltk.translate.bleu_score import corpus_bleu\n",
    "from nltk.translate.meteor_score import meteor_score\n",
    "from rouge import Rouge"
   ]
  },
  {
   "cell_type": "code",
   "execution_count": null,
   "metadata": {},
   "outputs": [],
   "source": [
    "# A dictionary to access actual captions of each image by its ID\n",
    "test_captions_dictionary = {}\n",
    "for item in test_captions:\n",
    "    image_id, caption = item.split('\\t')\n",
    "    if image_id not in test_captions_dictionary:\n",
    "        test_captions_dictionary[image_id] = []\n",
    "    test_captions_dictionary[image_id].append(caption)"
   ]
  },
  {
   "cell_type": "code",
   "execution_count": null,
   "metadata": {},
   "outputs": [],
   "source": [
    "# BLEU score\n",
    "def calculate_bleu(reference, candidate):\n",
    "    return corpus_bleu([[reference.split()]], [candidate.split()])\n",
    "\n",
    "# ROUGE score\n",
    "def calculate_rouge(reference, candidate):\n",
    "    rouge = Rouge()\n",
    "    scores = rouge.get_scores(candidate, reference)\n",
    "    return scores[0]['rouge-l']['f']\n",
    "\n",
    "# METEOR score\n",
    "def calculate_meteor(reference, candidate):\n",
    "    return meteor_score([reference.split()], candidate.split())\n",
    "\n",
    "# Getting the average score of each image\n",
    "def Average(lst):\n",
    "    return sum(lst) / len(lst)"
   ]
  },
  {
   "cell_type": "code",
   "execution_count": null,
   "metadata": {},
   "outputs": [],
   "source": [
    "# Some Dictionaries to access each image's average score by its ID \n",
    "bleu_scores, rouge_scores, meteor_scores = {}, {}, {}\n",
    "for image_id in Generated_output:\n",
    "    if image_id in test_captions_dictionary:\n",
    "        \n",
    "        # At each iteration, five scores will be added to the lists below\n",
    "        bleu, rouge, meteor = [], [], []\n",
    "        for i in range(len(test_captions_dictionary[image_id])):\n",
    "            bleuScore = calculate_bleu(test_captions_dictionary[image_id][i], Generated_output[image_id])\n",
    "            bleu.append(bleuScore)    \n",
    "            \n",
    "            rougeScore = calculate_rouge(test_captions_dictionary[image_id][i], Generated_output[image_id])\n",
    "            rouge.append(rougeScore)\n",
    "            \n",
    "            meteorScore = calculate_meteor(test_captions_dictionary[image_id][i], Generated_output[image_id])\n",
    "            meteor.append(meteorScore)\n",
    "            \n",
    "        else:\n",
    "            # At the end of the iteration, the average of the five scores will be add to the corresponding ID in the dicts\n",
    "            bleu_scores[image_id] = Average(bleu)\n",
    "            rouge_scores[image_id] = Average(rouge)\n",
    "            meteor_scores[image_id] = Average(meteor)            \n",
    "    else:\n",
    "        print('Wrong image id!')\n",
    "else:\n",
    "    # Finally we get a total average of the model performace score\n",
    "    average_bleu = sum([x[1] for x in bleu_scores.items()]) / len([x[1] for x in bleu_scores.items()])\n",
    "    average_rouge = sum([x[1] for x in rouge_scores.items()]) / len([x[1] for x in rouge_scores.items()])\n",
    "    average_meteor = sum([x[1] for x in meteor_scores.items()]) / len([x[1] for x in meteor_scores.items()])\n",
    "    \n",
    "\n",
    "print(f\"Average BLEU Score: {round(average_bleu, 5)}\")\n",
    "print(f\"Average ROUGE Score: {round(average_rouge, 5)}\")\n",
    "print(f\"Average METEOR Score: {round(average_meteor, 5)}\")"
   ]
  },
  {
   "cell_type": "markdown",
   "metadata": {},
   "source": [
    "### Visualizing the model performance on 24 images"
   ]
  },
  {
   "cell_type": "code",
   "execution_count": null,
   "metadata": {},
   "outputs": [],
   "source": [
    "list_captions = [x for x in Generated_output.items()]\n",
    "\n",
    "plt.figure(figsize=[12, 22], dpi=200)\n",
    "for i in range(24):\n",
    "    image_path = os.path.join(images_directory, list_captions[i][0]) # image_directory + ID = exact path\n",
    "    image_id, caption = list_captions[i][0], list_captions[i][1][6:-4].split() # 'start' and 'end' are now removed from text\n",
    "    \n",
    "    # Average scores of each image\n",
    "    BLEU_score = round(bleu_scores[image_id], 5)\n",
    "    ROUGE_score = round(rouge_scores[image_id], 5)\n",
    "    METEOR_score = round(meteor_scores[image_id], 5)\n",
    "    \n",
    "    plt.subplot(6, 4, i+1)\n",
    "    img = Image.open(image_path)\n",
    "    img = img.resize((140, 140)) # To have a clean plot, it's necessary to resize all images to a uniform size\n",
    "    plt.imshow(img)\n",
    "    plt.axis('off')\n",
    "    # Captions might be too larg (due to a bad generation issue) so we ignore them\n",
    "    if len(caption) > 27:\n",
    "        caption = 'None'\n",
    "    else:\n",
    "        # Captions might be larg so we write them in two lines\n",
    "        split = len(caption)//2\n",
    "        caption = f\"\\\"{' '.join(caption[:split])}\\n{' '.join(caption[split:])}\\\"\"\n",
    "    title = f\"{caption}\\nROUGE score: {ROUGE_score}\\nMETEOR score: {METEOR_score}\\nBELU score: {BLEU_score}\"\n",
    "    plt.title(title, fontsize=8, fontweight='bold')\n",
    "\n",
    "plt.savefig('Generated Captions 1.png')\n",
    "plt.show()"
   ]
  },
  {
   "cell_type": "code",
   "execution_count": null,
   "metadata": {},
   "outputs": [],
   "source": [
    "counter = 0\n",
    "for i in list_captions:\n",
    "    if len(i[1].split()) > 20:\n",
    "        counter += 1\n",
    "print(f'{counter} Nonsensical outputs')"
   ]
  },
  {
   "cell_type": "markdown",
   "metadata": {},
   "source": [
    "## --------------------------------------------------------------------------------------------------------------------------------------"
   ]
  },
  {
   "cell_type": "markdown",
   "metadata": {},
   "source": [
    "#"
   ]
  },
  {
   "cell_type": "markdown",
   "metadata": {},
   "source": [
    "# Model number 2"
   ]
  },
  {
   "cell_type": "code",
   "execution_count": null,
   "metadata": {
    "scrolled": true
   },
   "outputs": [],
   "source": [
    "def build_model_2(vocab_size, max_caption_length, cnn_output_dim):\n",
    "    # Encoder Model\n",
    "    \n",
    "    # image feature layers\n",
    "    input_image = Input(shape=(cnn_output_dim,))\n",
    "    fe1 = BatchNormalization()(input_image)\n",
    "    fe2 = Dense(256, activation='relu')(fe1) # Adding a Dense layer to the CNN output to match with the LSTM input size\n",
    "    fe2 = BatchNormalization()(fe2)\n",
    "\n",
    "    # sequence feature layers\n",
    "    input_caption = Input(shape=(max_caption_length,))\n",
    "    se1 = Embedding(vocab_size, 256, mask_zero=True)(input_caption)\n",
    "    se2 = LSTM(256)(se1)\n",
    "    \n",
    "    # Decoder Model\n",
    "    decoder1 = add([fe2, se2])\n",
    "    decoder2 = Dense(256, activation='relu')(decoder1)\n",
    "    decoder2 = BatchNormalization()(decoder2)\n",
    "    outputs = Dense(vocab_size, activation='softmax')(decoder2)\n",
    "\n",
    "    # Returning The Model\n",
    "    model = Model(inputs=[input_image, input_caption], outputs=outputs)\n",
    "    return model\n",
    "\n",
    "# Build the model\n",
    "optimizer = Adam(learning_rate=0.015, clipnorm=1.0)\n",
    "model_2 = build_model_2(vocab_size, max_caption_length, cnn_output_dim)\n",
    "model_2.compile(loss='categorical_crossentropy', optimizer=optimizer)\n",
    "model_2.summary()"
   ]
  },
  {
   "cell_type": "markdown",
   "metadata": {},
   "source": [
    "### Training the model"
   ]
  },
  {
   "cell_type": "code",
   "execution_count": null,
   "metadata": {},
   "outputs": [],
   "source": [
    "history_2 = model_2.fit(train_data_generator, steps_per_epoch=len(train_captions) // batch_size_train,\n",
    "                        validation_data=val_data_generator, validation_steps=len(val_captions) // batch_size_val,\n",
    "                        epochs=15, callbacks=[early_stopping, lr_schedule])\n",
    "\n",
    "model_2.save('best_model_2.h5')"
   ]
  },
  {
   "cell_type": "markdown",
   "metadata": {},
   "source": [
    "### Visualizing the model performance"
   ]
  },
  {
   "cell_type": "code",
   "execution_count": null,
   "metadata": {},
   "outputs": [],
   "source": [
    "plt.figure(figsize=(15, 7), dpi=200)\n",
    "sns.set_style('whitegrid')\n",
    "plt.plot([x+1 for x in range(len(history_2.history['loss']))], history_2.history['loss'], color='#E74C3C', marker='o')\n",
    "plt.plot([x+1 for x in range(len(history_2.history['loss']))], history_2.history['val_loss'], color='#641E16', marker='h')\n",
    "plt.title('Train VS Validation', fontsize=15, fontweight='bold')\n",
    "plt.xticks(fontweight='bold')\n",
    "plt.yticks(fontweight='bold')\n",
    "plt.xlabel('Epoch', fontweight='bold')\n",
    "plt.ylabel('Loss', fontweight='bold')\n",
    "plt.legend(['Train Loss', 'Validation Loss'], loc='lower right')\n",
    "# plt.savefig('frequency_barplot 2.png')\n",
    "plt.show()"
   ]
  },
  {
   "cell_type": "markdown",
   "metadata": {},
   "source": [
    "# Generating captions on test set"
   ]
  },
  {
   "cell_type": "code",
   "execution_count": null,
   "metadata": {},
   "outputs": [],
   "source": [
    "# Selecting the model\n",
    "selected_model_2 = load_model('best_model_2.h5')\n",
    "# A Dictionary to store each image's generated caption with its corresponding IDs      \n",
    "Generated_output_2 = {}\n",
    "counter = 1 # A counter to monitor loop iteration (might take too long)\n",
    "print('Generating captions:\\n==> Generated: ', end=' ')\n",
    "for i, image_id in enumerate(test_image_features):\n",
    "    generated_caption = generate_caption(selected_model_2, test_image_features[image_id], tokenizer, max_caption_length)\n",
    "    # Adding the generated caption with its corresponding ID to the dictionary\n",
    "    Generated_output_2[image_id] = generated_caption\n",
    "    counter += 1\n",
    "    if counter%20 == 0:\n",
    "        print(counter, end=', ')\n",
    "else:\n",
    "    print(f'{len(Generated_output_2)}, Done.')\n",
    "\n",
    "# Checking the result\n",
    "[x for x in Generated_output_2.items()][:5]"
   ]
  },
  {
   "cell_type": "markdown",
   "metadata": {},
   "source": [
    "## Evaliuating model on test images"
   ]
  },
  {
   "cell_type": "code",
   "execution_count": null,
   "metadata": {},
   "outputs": [],
   "source": [
    "# Some Dictionaries to access each image's average score by its ID \n",
    "bleu_scores_2, rouge_scores_2, meteor_scores_2 = {}, {}, {}\n",
    "for image_id in Generated_output_2:\n",
    "    if image_id in test_captions_dictionary:\n",
    "        \n",
    "        # At each iteration, five scores will be added to the lists below\n",
    "        bleu_2, rouge_2, meteor_2 = [], [], []\n",
    "        for i in range(len(test_captions_dictionary[image_id])):\n",
    "            bleu_2Score = calculate_bleu(test_captions_dictionary[image_id][i], Generated_output_2[image_id])\n",
    "            bleu_2.append(bleu_2Score)    \n",
    "            \n",
    "            rouge_2Score = calculate_rouge(test_captions_dictionary[image_id][i], Generated_output_2[image_id])\n",
    "            rouge_2.append(rouge_2Score)\n",
    "            \n",
    "            meteor_2Score = calculate_meteor(test_captions_dictionary[image_id][i], Generated_output_2[image_id])\n",
    "            meteor_2.append(meteor_2Score)\n",
    "            \n",
    "        else:\n",
    "            # At the end of the iteration, the average of the five scores will be add to the corresponding ID in the dicts\n",
    "            bleu_scores_2[image_id] = Average(bleu_2)\n",
    "            rouge_scores_2[image_id] = Average(rouge_2)\n",
    "            meteor_scores_2[image_id] = Average(meteor_2)            \n",
    "    else:\n",
    "        print('Wrong image id!')\n",
    "else:\n",
    "    # Finally we get a total average of the model performace score\n",
    "    average_bleu_2 = sum([x[1] for x in bleu_scores_2.items()]) / len([x[1] for x in bleu_scores_2.items()])\n",
    "    average_rouge_2 = sum([x[1] for x in rouge_scores_2.items()]) / len([x[1] for x in rouge_scores_2.items()])\n",
    "    average_meteor_2 = sum([x[1] for x in meteor_scores_2.items()]) / len([x[1] for x in meteor_scores_2.items()])\n",
    "    \n",
    "\n",
    "print(f\"Average BLEU Score: {round(average_bleu_2, 5)}\")\n",
    "print(f\"Average ROUGE Score: {round(average_rouge_2, 5)}\")\n",
    "print(f\"Average METEOR Score: {round(average_meteor_2, 5)}\")"
   ]
  },
  {
   "cell_type": "markdown",
   "metadata": {},
   "source": [
    "### Visualizing the model performance on 24 images"
   ]
  },
  {
   "cell_type": "code",
   "execution_count": null,
   "metadata": {},
   "outputs": [],
   "source": [
    "list_captions_2 = [x for x in Generated_output_2.items()]\n",
    "\n",
    "plt.figure(figsize=[12, 22], dpi=200)\n",
    "for i in range(24):\n",
    "    image_path = os.path.join(images_directory, list_captions_2[i][0]) # image_directory + ID = exact path\n",
    "    image_id, caption = list_captions_2[i][0], list_captions_2[i][1][6:-4].split() # 'start' and 'end' are now removed from text\n",
    "    \n",
    "    # Average scores of each image\n",
    "    BLEU_score = round(bleu_scores_2[image_id], 5)\n",
    "    ROUGE_score = round(rouge_scores_2[image_id], 5)\n",
    "    METEOR_score = round(meteor_scores_2[image_id], 5)\n",
    "    \n",
    "    plt.subplot(6, 4, i+1)\n",
    "    img = Image.open(image_path)\n",
    "    img = img.resize((140, 140)) # To have a clean plot, it's necessary to resize all images to a uniform size\n",
    "    plt.imshow(img)\n",
    "    plt.axis('off')\n",
    "    # Captions might be too larg (due to a bad generation issue) so we ignore them\n",
    "    if len(caption) > 27:\n",
    "        caption = 'None'\n",
    "    else:\n",
    "        # Captions might be larg so we write them in two lines\n",
    "        split = len(caption)//2\n",
    "        caption = f\"\\\"{' '.join(caption[:split])}\\n{' '.join(caption[split:])}\\\"\"\n",
    "    title = f\"{caption}\\nROUGE score: {ROUGE_score}\\nMETEOR score: {METEOR_score}\\nBELU score: {BLEU_score}\"\n",
    "    plt.title(title, fontsize=8, fontweight='bold')\n",
    "\n",
    "plt.savefig('Generated Captions 2.png')\n",
    "plt.show()"
   ]
  },
  {
   "cell_type": "markdown",
   "metadata": {},
   "source": [
    "### Sometimes the model generates one or two words repeatedly, which makes long nonsensical sentences, so we need to count how many times this occurs."
   ]
  },
  {
   "cell_type": "code",
   "execution_count": null,
   "metadata": {},
   "outputs": [],
   "source": [
    "counter = 0\n",
    "for i in list_captions_2:\n",
    "    if len(i[1].split()) > 20:\n",
    "        counter += 1\n",
    "print(f'{counter} Nonsensical outputs')"
   ]
  },
  {
   "cell_type": "markdown",
   "metadata": {},
   "source": [
    "## --------------------------------------------------------------------------------------------------------------------------------------"
   ]
  },
  {
   "cell_type": "markdown",
   "metadata": {},
   "source": [
    "#"
   ]
  },
  {
   "cell_type": "markdown",
   "metadata": {},
   "source": [
    "# Comparing the two models"
   ]
  },
  {
   "cell_type": "code",
   "execution_count": null,
   "metadata": {},
   "outputs": [],
   "source": [
    "model_1_report = [4-history_1.history['val_loss'][4], average_rouge, average_bleu*10, average_meteor]\n",
    "model_1_report.append(sum(model_1_report)/len(model_1_report))\n",
    "\n",
    "model_2_report = [4-history_2.history['val_loss'][5], average_rouge_2, average_bleu_2*10, average_meteor_2]\n",
    "model_2_report.append(sum(model_2_report)/len(model_2_report))"
   ]
  },
  {
   "cell_type": "markdown",
   "metadata": {},
   "source": [
    "#### To normalize the numbers for better visualization in the bar plot, we subtract val_loss from 4 and multiply bleu score by 10."
   ]
  },
  {
   "cell_type": "code",
   "execution_count": null,
   "metadata": {},
   "outputs": [],
   "source": [
    "opacity = 0.6\n",
    "bar_width = 0.4\n",
    "\n",
    "sns.set_theme()\n",
    "\n",
    "plt.figure(figsize=(14, 13), dpi=200)\n",
    "plt.title('Comparing Models', fontweight='bold')\n",
    "\n",
    "plt.xlabel('Metrics', fontweight='bold')\n",
    "plt.ylabel('Scores', fontweight='bold')\n",
    "\n",
    "plt.xticks([(x)+(bar_width/2) for x in range(len(model_1_report))],\n",
    "           ('Val_loss', 'Rouge', 'Bleu*10', 'Metero', 'Mean'), rotation=0, fontweight='bold')\n",
    "plt.yticks(fontweight='bold')\n",
    "\n",
    "bar1 = plt.bar([(x) for x in range(len(model_1_report))], model_1_report,\n",
    "        bar_width, align='center', alpha=opacity, color='g', label='Model 1')\n",
    "\n",
    "bar2 = plt.bar([(x)+(bar_width) for x in range(len(model_2_report))], model_2_report,\n",
    "        bar_width, align='center', alpha=opacity, color='b', label='Model 2')\n",
    "\n",
    "for rect in bar1 + bar2:\n",
    "    height = rect.get_height()\n",
    "    plt.text(rect.get_x()+rect.get_width()/2.0, height, f'{height:.02f}', ha='center', va='bottom', fontweight='bold')\n",
    "\n",
    "plt.legend()\n",
    "plt.tight_layout()\n",
    "plt.show()"
   ]
  },
  {
   "cell_type": "code",
   "execution_count": null,
   "metadata": {},
   "outputs": [],
   "source": [
    "plt.figure(figsize=[12, 22], dpi=200)\n",
    "for i in range(24):\n",
    "    image_path = os.path.join(images_directory, list_captions[i+24][0]) # image_directory + ID = exact path\n",
    "    image_id, caption = list_captions[i+24][0], list_captions[i+24][1][6:-4].split() # 'start' and 'end' are now removed from text\n",
    "    \n",
    "    # Average scores of each image\n",
    "    BLEU_score = round(bleu_scores[image_id], 5)\n",
    "    ROUGE_score = round(rouge_scores[image_id], 5)\n",
    "    METEOR_score = round(meteor_scores[image_id], 5)\n",
    "    \n",
    "    plt.subplot(6, 4, i+1)\n",
    "    img = Image.open(image_path)\n",
    "    img = img.resize((140, 140)) # To have a clean plot, it's necessary to resize all images to a uniform size\n",
    "    plt.imshow(img)\n",
    "    plt.axis('off')\n",
    "    # Captions might be too larg (due to a bad generation issue) so we ignore them\n",
    "    if len(caption) > 27:\n",
    "        caption = 'None'\n",
    "    else:\n",
    "        # Captions might be larg so we write them in two lines\n",
    "        split = len(caption)//2\n",
    "        caption = f\"\\\"{' '.join(caption[:split])}\\n{' '.join(caption[split:])}\\\"\"\n",
    "    title = f\"{caption}\\nROUGE score: {ROUGE_score}\\nMETEOR score: {METEOR_score}\\nBELU score: {BLEU_score}\"\n",
    "    plt.title(title, fontsize=8, fontweight='bold')\n",
    "\n",
    "plt.savefig('Generated Captions 1_2.png')\n",
    "plt.show()"
   ]
  }
 ],
 "metadata": {
  "kaggle": {
   "accelerator": "none",
   "dataSources": [
    {
     "datasetId": 623289,
     "sourceId": 1111676,
     "sourceType": "datasetVersion"
    }
   ],
   "dockerImageVersionId": 30558,
   "isGpuEnabled": false,
   "isInternetEnabled": false,
   "language": "python",
   "sourceType": "notebook"
  },
  "kernelspec": {
   "display_name": "Python 3 (ipykernel)",
   "language": "python",
   "name": "python3"
  },
  "language_info": {
   "codemirror_mode": {
    "name": "ipython",
    "version": 3
   },
   "file_extension": ".py",
   "mimetype": "text/x-python",
   "name": "python",
   "nbconvert_exporter": "python",
   "pygments_lexer": "ipython3",
   "version": "3.10.9"
  }
 },
 "nbformat": 4,
 "nbformat_minor": 4
}
